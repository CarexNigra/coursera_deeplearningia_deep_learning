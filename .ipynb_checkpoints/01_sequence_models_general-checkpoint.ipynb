{
 "cells": [
  {
   "cell_type": "markdown",
   "id": "b3ee2ca7",
   "metadata": {},
   "source": [
    "# Seqence models \n",
    "\n",
    "### (video 1) Sequence problems\n",
    "Examples of sequence data\n",
    "- speach recognition: x(audio = sequence) => y(transcript = sequence)\n",
    "- music generation: x(nan; single integer, referring to a style) => y(sequence)\n",
    "- sentiment classification: x(prase = sequence) => y(stars)\n",
    "- DNA sequence analysis: x(DNA code = sequence) => y (which part corresponds to a protein = sequence)\n",
    "- machine translation: x(phrase = sequence) => y(translation = sequence)\n",
    "- video activity recognition: x(videoframes = sequence) => y(activity)\n",
    "- NER: x(phrase = sequence) => y(entities)\n",
    "\n",
    "Problems can be addressed as supervised learning with labled data X, and Y as a training set\n",
    "=> but different types of sequence problems\n",
    "- X and Y are sequences\n",
    "- X and Y can have different length or same \n",
    "- only X or Y can be the sequence\n",
    "\n",
    "### (video 2) Notations to define sequence problems\n",
    "NER: identify people\n",
    "\n",
    "\n",
    "|  | word | word | word | word | word | word | word | word | word |\n",
    "| --- | --- | --- | --- | --- | --- | --- | --- | --- | --- |\n",
    "| input x: | Harry | Potter | and | Hermione | Granger | invented | a | new | spell |\n",
    "| input features: | x<sup><1></sup> | x<sup><2></sup>  | ... | ... | x<sup>&lt;t&gt;</sup>  | ... | ... | x<sup><8></sup>  | x<sup><9></sup>  |\n",
    "| output y1: | 1 | 1 | 0 | 1 | 1 | 0 | 0 | 0 | 0 |\n",
    "| output: | y<sup><1></sup> | y<sup><2></sup>  | ... | ... | y<sup>&lt;t&gt;</sup>  | ... | ... | y<sup><8></sup> | y<sup><9></sup>  |\n",
    "\n",
    "y1 – not the best representation, since doesn't tell you, where is the start and end of peoples' names\n",
    "\n",
    "the input is 9 words => we'll have 9 sets of features representing these\n",
    "- x<sup>t</sup> – feature in the middle of the sequence\n",
    "- *t* implies that these are temporal sequences (but it will be used regardless the type of sequence)\n",
    "- T<sub>x</sub> – length of the input sequence = 9\n",
    "- T<sub>y</sub> – length of the output sequence = 9\n",
    "- T<sub>x</sub> and T<sub>y</sub> can be different\n",
    "        \n",
    "- X<sup>(i)</sup> – i-th training example, in this case, this particular phrase\n",
    "- x<sup>(i)&lt;t&gt; </sup> – t-th element of an input sequence of i-th training example   \n",
    "- T<sub>x</sub><sup>(i)</sup> – the length of an input sequence of i-th training example  \n",
    "- y<sup>(i)&lt;t&gt; </sup> – t-th element of an output sequence of i-th training example \n",
    "- T<sub>y</sub><sup>(i)</sup> – the length of an output sequence of i-th training example\n",
    "    \n",
    "**Representation of individual words of the sentence**\n",
    "\n",
    "    "
   ]
  },
  {
   "cell_type": "markdown",
   "id": "d340370e",
   "metadata": {},
   "source": []
  }
 ],
 "metadata": {
  "kernelspec": {
   "display_name": "Python 3 (ipykernel)",
   "language": "python",
   "name": "python3"
  },
  "language_info": {
   "codemirror_mode": {
    "name": "ipython",
    "version": 3
   },
   "file_extension": ".py",
   "mimetype": "text/x-python",
   "name": "python",
   "nbconvert_exporter": "python",
   "pygments_lexer": "ipython3",
   "version": "3.9.7"
  }
 },
 "nbformat": 4,
 "nbformat_minor": 5
}
