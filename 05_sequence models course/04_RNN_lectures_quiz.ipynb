{
 "cells": [
  {
   "cell_type": "markdown",
   "id": "5ff17df5",
   "metadata": {},
   "source": [
    "# Week 4: Transformers\n",
    "\n",
    "### (video 1) Transformer network"
   ]
  },
  {
   "cell_type": "markdown",
   "id": "ae2099ca",
   "metadata": {},
   "source": []
  },
  {
   "cell_type": "markdown",
   "id": "ec99af93",
   "metadata": {},
   "source": []
  },
  {
   "cell_type": "markdown",
   "id": "b4ba3eeb",
   "metadata": {},
   "source": []
  },
  {
   "cell_type": "markdown",
   "id": "f6bfb49a",
   "metadata": {},
   "source": []
  },
  {
   "cell_type": "markdown",
   "id": "15d822e0",
   "metadata": {},
   "source": []
  },
  {
   "cell_type": "markdown",
   "id": "1a2b2ce1",
   "metadata": {},
   "source": []
  },
  {
   "cell_type": "markdown",
   "id": "ee02251a",
   "metadata": {},
   "source": []
  },
  {
   "cell_type": "markdown",
   "id": "3f18cc81",
   "metadata": {},
   "source": []
  },
  {
   "cell_type": "markdown",
   "id": "a029e8db",
   "metadata": {},
   "source": []
  },
  {
   "cell_type": "markdown",
   "id": "bbcfba14",
   "metadata": {},
   "source": []
  },
  {
   "cell_type": "markdown",
   "id": "9f846513",
   "metadata": {},
   "source": []
  },
  {
   "cell_type": "markdown",
   "id": "b0555aac",
   "metadata": {},
   "source": []
  },
  {
   "cell_type": "markdown",
   "id": "2c935dd7",
   "metadata": {},
   "source": []
  },
  {
   "cell_type": "markdown",
   "id": "ad7043aa",
   "metadata": {},
   "source": []
  },
  {
   "cell_type": "markdown",
   "id": "3959b7c3",
   "metadata": {},
   "source": []
  },
  {
   "cell_type": "markdown",
   "id": "d9961f3a",
   "metadata": {},
   "source": []
  },
  {
   "cell_type": "markdown",
   "id": "335763e9",
   "metadata": {},
   "source": []
  },
  {
   "cell_type": "markdown",
   "id": "3153b722",
   "metadata": {},
   "source": []
  },
  {
   "cell_type": "markdown",
   "id": "a228038c",
   "metadata": {},
   "source": []
  },
  {
   "cell_type": "markdown",
   "id": "49969550",
   "metadata": {},
   "source": []
  }
 ],
 "metadata": {
  "kernelspec": {
   "display_name": "Python 3 (ipykernel)",
   "language": "python",
   "name": "python3"
  },
  "language_info": {
   "codemirror_mode": {
    "name": "ipython",
    "version": 3
   },
   "file_extension": ".py",
   "mimetype": "text/x-python",
   "name": "python",
   "nbconvert_exporter": "python",
   "pygments_lexer": "ipython3",
   "version": "3.9.7"
  }
 },
 "nbformat": 4,
 "nbformat_minor": 5
}
