{
 "cells": [
  {
   "cell_type": "markdown",
   "id": "dc08381f",
   "metadata": {},
   "source": [
    "# Improvise a Jazz Solo with an LSTM Network\n",
    "\n",
    "Welcome to your final programming assignment of this week! In this notebook, you will implement a model that uses an LSTM to generate music. At the end, you'll even be able to listen to your own music! \n",
    "\n",
    "**By the end of this assignment, you'll be able to:**\n",
    "\n",
    "- Apply an LSTM to a music generation task\n",
    "- Generate your own jazz music with deep learning\n",
    "- Use the flexible Functional API to create complex models\n",
    "\n",
    "This is going to be a fun one. Let's get started! "
   ]
  },
  {
   "cell_type": "markdown",
   "id": "73371f22",
   "metadata": {},
   "source": [
    "## Table of Contents\n",
    "\n",
    "- [Packages](#0)\n",
    "- [1 - Problem Statement](#1)\n",
    "    - [1.1 - Dataset](#1-1)\n",
    "    - [1.2 - Model Overview](#1-2)\n",
    "- [2 - Building the Model](#2)\n",
    "    - [Exercise 1 - djmodel](#ex-1)\n",
    "- [3 - Generating Music](#3)\n",
    "    - [3.1 - Predicting & Sampling](#3-1)\n",
    "        - [Exercise 2 - music_inference_model](#ex-2)\n",
    "        - [Exercise 3 - predict_and_sample](#ex-3)\n",
    "    - [3.2 - Generate Music](#3-2)\n",
    "- [4 - References](#4)    "
   ]
  },
  {
   "cell_type": "markdown",
   "id": "b3f670cd",
   "metadata": {},
   "source": [
    "<a name='0'></a>\n",
    "## Packages\n",
    "\n",
    "Run the following cell to load all the packages you'll need. This may take a few minutes!"
   ]
  },
  {
   "cell_type": "code",
   "execution_count": null,
   "id": "d24da6d0",
   "metadata": {},
   "outputs": [],
   "source": [
    "import IPython\n",
    "import sys\n",
    "import matplotlib.pyplot as plt\n",
    "import numpy as np\n",
    "import tensorflow as tf\n",
    "\n",
    "from music21 import *\n",
    "from grammar import *\n",
    "from qa import *\n",
    "from preprocess import * \n",
    "from music_utils import *\n",
    "from data_utils import *\n",
    "from outputs import *\n",
    "from test_utils import *\n",
    "\n",
    "from tensorflow.keras.layers import Dense, Activation, Dropout, Input, LSTM, Reshape, Lambda, RepeatVector\n",
    "from tensorflow.keras.models import Model\n",
    "from tensorflow.keras.optimizers import Adam\n",
    "from tensorflow.keras.utils import to_categorical"
   ]
  },
  {
   "cell_type": "markdown",
   "id": "05623a57",
   "metadata": {},
   "source": [
    "<a name='1'></a>\n",
    "## 1 - Problem Statement\n",
    "\n",
    "You would like to create a jazz music piece specially for a friend's birthday. However, you don't know how to play any instruments, or how to compose music. Fortunately, you know deep learning and will solve this problem using an LSTM network! \n",
    "\n",
    "You will train a network to generate novel jazz solos in a style representative of a body of performed work. 😎🎷\n",
    "\n",
    "<a name='1-1'></a>\n",
    "### 1.1 - Dataset\n",
    "\n",
    "To get started, you'll train your algorithm on a corpus of Jazz music. Run the cell below to listen to a snippet of the audio from the training set:"
   ]
  },
  {
   "cell_type": "code",
   "execution_count": null,
   "id": "3e865313",
   "metadata": {},
   "outputs": [],
   "source": [
    "IPython.display.Audio('./data/30s_seq.wav')"
   ]
  },
  {
   "cell_type": "code",
   "execution_count": null,
   "id": "05df505f",
   "metadata": {},
   "outputs": [],
   "source": []
  },
  {
   "cell_type": "code",
   "execution_count": null,
   "id": "5ce5185d",
   "metadata": {},
   "outputs": [],
   "source": []
  },
  {
   "cell_type": "code",
   "execution_count": null,
   "id": "eca8afa9",
   "metadata": {},
   "outputs": [],
   "source": []
  }
 ],
 "metadata": {
  "kernelspec": {
   "display_name": "Python 3 (ipykernel)",
   "language": "python",
   "name": "python3"
  },
  "language_info": {
   "codemirror_mode": {
    "name": "ipython",
    "version": 3
   },
   "file_extension": ".py",
   "mimetype": "text/x-python",
   "name": "python",
   "nbconvert_exporter": "python",
   "pygments_lexer": "ipython3",
   "version": "3.9.7"
  }
 },
 "nbformat": 4,
 "nbformat_minor": 5
}
